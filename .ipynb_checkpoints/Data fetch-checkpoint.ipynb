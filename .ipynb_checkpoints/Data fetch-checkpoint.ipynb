{
 "cells": [
  {
   "cell_type": "code",
   "execution_count": null,
   "id": "241eaea4",
   "metadata": {},
   "outputs": [],
   "source": [
    "import lyricsgenius\n",
    "\n",
    "token = \"i_qNF51GwOlzG0wlbzAp3r7FCvD5Sx_HNn3n11Z8fszf5GeeYy7nQyPLzDFlaaey\"\n",
    "genius = lyricsgenius.Genius(token)\n",
    "genius.remove_section_headers = True \n",
    "genius.retries = 10\n",
    "genius.timeout = 20\n",
    "\n",
    "try: \n",
    "    artist = genius.search_artist(\"Замай (Zamay)\", per_page=50, sort=\"title\", include_features=True)\n",
    "    print(artist)\n",
    "except Timeout as e:\n",
    "    print(e)\n",
    "artist.save_lyrics()\n"
   ]
  }
 ],
 "metadata": {
  "kernelspec": {
   "display_name": "Python 3 (ipykernel)",
   "language": "python",
   "name": "python3"
  },
  "language_info": {
   "codemirror_mode": {
    "name": "ipython",
    "version": 3
   },
   "file_extension": ".py",
   "mimetype": "text/x-python",
   "name": "python",
   "nbconvert_exporter": "python",
   "pygments_lexer": "ipython3",
   "version": "3.9.6"
  }
 },
 "nbformat": 4,
 "nbformat_minor": 5
}
