{
 "cells": [
  {
   "cell_type": "code",
   "execution_count": 33,
   "id": "a4f79c30",
   "metadata": {},
   "outputs": [
    {
     "name": "stdout",
     "output_type": "stream",
     "text": [
      "Но ты вырос в огороде - не знаешь, ведь ты же лох\n"
     ]
    }
   ],
   "source": [
    "import json\n",
    "import csv  \n",
    "import re\n",
    "\n",
    "with open('data/Lyrics_ЗамайZamay.json', encoding='utf8') as json_file:\n",
    "    data = json.load(json_file)\n",
    "    \n",
    "songs = data['songs']\n",
    "\n",
    "data_file = open('data/lines.csv', 'w', encoding='utf8', newline=\"\")\n",
    " \n",
    "# create the csv writer object\n",
    "csv_writer = csv.writer(data_file)\n",
    " \n",
    "# Counter variable used for writing\n",
    "# headers to the CSV file\n",
    "count = 0\n",
    "\n",
    "\n",
    "csv_writer.writerow(['id', 'line'])\n",
    "\n",
    "\n",
    "for song in songs:\n",
    "    for line in song['lyrics'].split('\\n'):\n",
    "        if line != '':\n",
    "            if count == 112: \n",
    "                print(line)\n",
    "            line = re.sub(r'[^\\w\\s]','',line).replace('  ', ' ')\n",
    "            csv_writer.writerow([count, line])\n",
    "            count += 1   \n",
    " \n",
    "data_file.close()"
   ]
  },
  {
   "cell_type": "code",
   "execution_count": null,
   "id": "7a870890",
   "metadata": {},
   "outputs": [],
   "source": []
  }
 ],
 "metadata": {
  "kernelspec": {
   "display_name": "Python 3 (ipykernel)",
   "language": "python",
   "name": "python3"
  },
  "language_info": {
   "codemirror_mode": {
    "name": "ipython",
    "version": 3
   },
   "file_extension": ".py",
   "mimetype": "text/x-python",
   "name": "python",
   "nbconvert_exporter": "python",
   "pygments_lexer": "ipython3",
   "version": "3.9.6"
  }
 },
 "nbformat": 4,
 "nbformat_minor": 5
}
