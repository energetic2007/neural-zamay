{
  "nbformat": 4,
  "nbformat_minor": 5,
  "metadata": {
    "kernelspec": {
      "display_name": "Python 3 (ipykernel)",
      "language": "python",
      "name": "python3"
    },
    "language_info": {
      "codemirror_mode": {
        "name": "ipython",
        "version": 3
      },
      "file_extension": ".py",
      "mimetype": "text/x-python",
      "name": "python",
      "nbconvert_exporter": "python",
      "pygments_lexer": "ipython3",
      "version": "3.9.6"
    },
    "colab": {
      "name": "model.ipynb",
      "provenance": [],
      "collapsed_sections": [],
      "include_colab_link": true
    },
    "accelerator": "GPU"
  },
  "cells": [
    {
      "cell_type": "markdown",
      "metadata": {
        "id": "view-in-github",
        "colab_type": "text"
      },
      "source": [
        "<a href=\"https://colab.research.google.com/github/valerih12/neural-zamay/blob/master/model.ipynb\" target=\"_parent\"><img src=\"https://colab.research.google.com/assets/colab-badge.svg\" alt=\"Open In Colab\"/></a>"
      ]
    },
    {
      "cell_type": "code",
      "metadata": {
        "scrolled": true,
        "id": "a9053f21",
        "colab": {
          "base_uri": "https://localhost:8080/",
          "height": 299
        },
        "outputId": "67f3bd33-a01a-4166-f86e-fc4292ec79d5"
      },
      "source": [
        "import pandas as pd \n",
        "\n",
        "df = pd.read_csv('lines.csv')\n",
        "df.head()\n",
        "df.line\n",
        "\n",
        "df.describe()"
      ],
      "id": "a9053f21",
      "execution_count": 220,
      "outputs": [
        {
          "output_type": "execute_result",
          "data": {
            "text/html": [
              "<div>\n",
              "<style scoped>\n",
              "    .dataframe tbody tr th:only-of-type {\n",
              "        vertical-align: middle;\n",
              "    }\n",
              "\n",
              "    .dataframe tbody tr th {\n",
              "        vertical-align: top;\n",
              "    }\n",
              "\n",
              "    .dataframe thead th {\n",
              "        text-align: right;\n",
              "    }\n",
              "</style>\n",
              "<table border=\"1\" class=\"dataframe\">\n",
              "  <thead>\n",
              "    <tr style=\"text-align: right;\">\n",
              "      <th></th>\n",
              "      <th>id</th>\n",
              "    </tr>\n",
              "  </thead>\n",
              "  <tbody>\n",
              "    <tr>\n",
              "      <th>count</th>\n",
              "      <td>20056.000000</td>\n",
              "    </tr>\n",
              "    <tr>\n",
              "      <th>mean</th>\n",
              "      <td>10027.500000</td>\n",
              "    </tr>\n",
              "    <tr>\n",
              "      <th>std</th>\n",
              "      <td>5789.812835</td>\n",
              "    </tr>\n",
              "    <tr>\n",
              "      <th>min</th>\n",
              "      <td>0.000000</td>\n",
              "    </tr>\n",
              "    <tr>\n",
              "      <th>25%</th>\n",
              "      <td>5013.750000</td>\n",
              "    </tr>\n",
              "    <tr>\n",
              "      <th>50%</th>\n",
              "      <td>10027.500000</td>\n",
              "    </tr>\n",
              "    <tr>\n",
              "      <th>75%</th>\n",
              "      <td>15041.250000</td>\n",
              "    </tr>\n",
              "    <tr>\n",
              "      <th>max</th>\n",
              "      <td>20055.000000</td>\n",
              "    </tr>\n",
              "  </tbody>\n",
              "</table>\n",
              "</div>"
            ],
            "text/plain": [
              "                 id\n",
              "count  20056.000000\n",
              "mean   10027.500000\n",
              "std     5789.812835\n",
              "min        0.000000\n",
              "25%     5013.750000\n",
              "50%    10027.500000\n",
              "75%    15041.250000\n",
              "max    20055.000000"
            ]
          },
          "metadata": {
            "tags": []
          },
          "execution_count": 220
        }
      ]
    },
    {
      "cell_type": "code",
      "metadata": {
        "id": "IIci5Z0k1GHw"
      },
      "source": [
        "import re\n",
        "\n",
        "def clean_text(sentence):\n",
        "    sentence = sentence.lower()\n",
        "    \n",
        "    sentence = re.sub(\"\\n\", \"\", sentence)\n",
        "\n",
        "    sentence = re.sub(\"[-*/()\\\"’'#/@;:<>{}`+=~|.!?,]\", \"\", sentence)\n",
        "    \n",
        "    return sentence"
      ],
      "id": "IIci5Z0k1GHw",
      "execution_count": 221,
      "outputs": []
    },
    {
      "cell_type": "markdown",
      "metadata": {
        "id": "hDdktmzoOocU"
      },
      "source": [
        "# New Section"
      ],
      "id": "hDdktmzoOocU"
    },
    {
      "cell_type": "code",
      "metadata": {
        "id": "c7de083c",
        "colab": {
          "base_uri": "https://localhost:8080/"
        },
        "outputId": "cbdbf2bc-cae9-4404-e8de-22a767be1f69"
      },
      "source": [
        "df.line = df.line.astype(str).apply(lambda line: clean_text(line))\n",
        "\n",
        "df.line = df.line.apply(lambda x: x.split())\n",
        "\n",
        "sample_size=400\n",
        "df = df.line.sample(n=sample_size)\n",
        "df.describe()"
      ],
      "id": "c7de083c",
      "execution_count": 222,
      "outputs": [
        {
          "output_type": "execute_result",
          "data": {
            "text/plain": [
              "count                 400\n",
              "unique                390\n",
              "top       [нахуй, мирона]\n",
              "freq                    2\n",
              "Name: line, dtype: object"
            ]
          },
          "metadata": {
            "tags": []
          },
          "execution_count": 222
        }
      ]
    },
    {
      "cell_type": "code",
      "metadata": {
        "id": "SOUlgxVYObG3"
      },
      "source": [
        ""
      ],
      "id": "SOUlgxVYObG3",
      "execution_count": 222,
      "outputs": []
    },
    {
      "cell_type": "code",
      "metadata": {
        "id": "1a47097e",
        "colab": {
          "base_uri": "https://localhost:8080/"
        },
        "outputId": "0e563e3b-02a3-4245-f164-faa4a652b3fe"
      },
      "source": [
        "x_train = [line[:-1] for line in df]\n",
        "y_train = [line[1:] for line in df]\n",
        "\n",
        "x_train[20], y_train[0]"
      ],
      "id": "1a47097e",
      "execution_count": 223,
      "outputs": [
        {
          "output_type": "execute_result",
          "data": {
            "text/plain": [
              "(['любовь', 'и', 'боль', 'shiftdelete'],\n",
              " ['man', 'у', 'меня', 'есть', 'релиз', 'с', 'федуком'])"
            ]
          },
          "metadata": {
            "tags": []
          },
          "execution_count": 223
        }
      ]
    },
    {
      "cell_type": "code",
      "metadata": {
        "id": "2e1dca0f"
      },
      "source": [
        "from tensorflow.keras.preprocessing.text import Tokenizer\n",
        "from tensorflow.keras.preprocessing.sequence import pad_sequences\n",
        "\n",
        "tokenizer = Tokenizer()\n",
        "tokenizer.fit_on_texts(df)\n",
        "x_train = tokenizer.texts_to_sequences(x_train)\n",
        "y_train = tokenizer.texts_to_sequences(y_train)"
      ],
      "id": "2e1dca0f",
      "execution_count": 224,
      "outputs": []
    },
    {
      "cell_type": "code",
      "metadata": {
        "id": "cde0f65e",
        "colab": {
          "base_uri": "https://localhost:8080/"
        },
        "outputId": "4cadc39a-1abc-4a44-9ae9-b5075f35d716"
      },
      "source": [
        "lengths = []\n",
        "\n",
        "for sequence in x_train:\n",
        "    lengths.append(len(sequence))\n",
        "    \n",
        "lengths = pd.Series(lengths)\n",
        "lengths.describe()\n"
      ],
      "id": "cde0f65e",
      "execution_count": 225,
      "outputs": [
        {
          "output_type": "execute_result",
          "data": {
            "text/plain": [
              "count    400.000000\n",
              "mean       5.425000\n",
              "std        2.732772\n",
              "min        0.000000\n",
              "25%        4.000000\n",
              "50%        5.000000\n",
              "75%        7.000000\n",
              "max       25.000000\n",
              "dtype: float64"
            ]
          },
          "metadata": {
            "tags": []
          },
          "execution_count": 225
        }
      ]
    },
    {
      "cell_type": "code",
      "metadata": {
        "id": "L5qHFZT52AKR"
      },
      "source": [
        "word2idx = tokenizer.word_index\n",
        "idx2word = {value: key for key, value in word2idx.items()}\n",
        "\n",
        "\n",
        "word2idx[\"<pad>\"] = 0\n",
        "idx2word[0] = \"<pad>\""
      ],
      "id": "L5qHFZT52AKR",
      "execution_count": 226,
      "outputs": []
    },
    {
      "cell_type": "code",
      "metadata": {
        "id": "7aa21c9d",
        "colab": {
          "base_uri": "https://localhost:8080/"
        },
        "outputId": "e1cbff04-4b2a-4b95-9c51-db4280d16074"
      },
      "source": [
        "maxlen = 1000\n",
        "vocab_size = len(tokenizer.word_index) + 1\n",
        "embedding_dim = 128\n",
        "print(vocab_size)\n",
        "\n",
        "\n",
        "x_train = pad_sequences(x_train, maxlen=maxlen, padding='post', truncating='post')\n",
        "y_train = pad_sequences(y_train, maxlen=maxlen, padding='post', truncating='post')"
      ],
      "id": "7aa21c9d",
      "execution_count": 227,
      "outputs": [
        {
          "output_type": "stream",
          "text": [
            "1483\n"
          ],
          "name": "stdout"
        }
      ]
    },
    {
      "cell_type": "code",
      "metadata": {
        "id": "89e342fa"
      },
      "source": [
        "from tensorflow.keras.models import Sequential, load_model\n",
        "from tensorflow.keras.layers import GRU, Dense, Input, LSTM, Embedding, Dropout, Flatten, Conv2D, MaxPooling1D, Activation, Bidirectional\n",
        "from tensorflow.keras import layers\n",
        "from tensorflow.keras.optimizers import Adam\n",
        "from tensorflow.keras.regularizers import l2\n",
        "from tensorflow.keras.losses import SparseCategoricalCrossentropy"
      ],
      "id": "89e342fa",
      "execution_count": 228,
      "outputs": []
    },
    {
      "cell_type": "code",
      "metadata": {
        "id": "a11a0ee1"
      },
      "source": [
        "GRU_size = 128\n",
        "dropout=0.5\n",
        "\n",
        "model = Sequential()\n",
        "model.add(Embedding(input_dim=vocab_size, output_dim=embedding_dim, mask_zero=True))\n",
        "model.add(GRU(units=GRU_size, return_sequences=True))\n",
        "model.add(Dropout(dropout)) \n",
        "model.add(Dense(vocab_size))"
      ],
      "id": "a11a0ee1",
      "execution_count": 229,
      "outputs": []
    },
    {
      "cell_type": "code",
      "metadata": {
        "id": "1ea16223"
      },
      "source": [
        "lr = 0.1\n",
        "model.compile(optimizer=Adam(learning_rate=lr), loss=SparseCategoricalCrossentropy(from_logits=True))"
      ],
      "id": "1ea16223",
      "execution_count": 230,
      "outputs": []
    },
    {
      "cell_type": "code",
      "metadata": {
        "id": "b6420f61",
        "colab": {
          "base_uri": "https://localhost:8080/"
        },
        "outputId": "884908c2-609f-4dde-c5eb-290171dc9c1b"
      },
      "source": [
        "import time\n",
        "\n",
        "epochs = 15\n",
        "time_start = time.time()\n",
        "\n",
        "history = model.fit(x_train, y_train, epochs=epochs, verbose=1)\n",
        "\n",
        "time_elapsed = time.time() - time_start\n",
        "time_elapsed"
      ],
      "id": "b6420f61",
      "execution_count": null,
      "outputs": [
        {
          "output_type": "stream",
          "text": [
            "Epoch 1/15\n",
            "13/13 [==============================] - 25s 1s/step - loss: 0.0411\n",
            "Epoch 2/15\n",
            "13/13 [==============================] - 24s 2s/step - loss: 0.0418\n",
            "Epoch 3/15\n",
            "13/13 [==============================] - 20s 2s/step - loss: 0.0416\n",
            "Epoch 4/15\n",
            "13/13 [==============================] - 27s 2s/step - loss: 0.0397\n",
            "Epoch 5/15\n",
            "13/13 [==============================] - 27s 2s/step - loss: 0.0376\n",
            "Epoch 6/15\n",
            "13/13 [==============================] - 26s 2s/step - loss: 0.0364\n",
            "Epoch 7/15\n",
            "13/13 [==============================] - 23s 2s/step - loss: 0.0358\n",
            "Epoch 8/15\n",
            "13/13 [==============================] - 26s 2s/step - loss: 0.0350\n",
            "Epoch 9/15\n",
            "13/13 [==============================] - 24s 2s/step - loss: 0.0342\n",
            "Epoch 10/15\n",
            " 6/13 [============>.................] - ETA: 14s - loss: 0.0309"
          ],
          "name": "stdout"
        }
      ]
    },
    {
      "cell_type": "code",
      "metadata": {
        "id": "f0f3262b"
      },
      "source": [
        "model.save(\"zamay.h5\")\n",
        "# model = load_model(\"zamay.h5\")"
      ],
      "id": "f0f3262b",
      "execution_count": null,
      "outputs": []
    },
    {
      "cell_type": "code",
      "metadata": {
        "id": "ZJsMLUk8FFEQ"
      },
      "source": [
        "# save to json:  \n",
        "hist_df = pd.DataFrame(history.history) \n",
        "\n",
        "hist_json_file = 'history.json' \n",
        "with open(hist_json_file, mode='w') as f:\n",
        "    hist_df.to_json(f)"
      ],
      "id": "ZJsMLUk8FFEQ",
      "execution_count": null,
      "outputs": []
    },
    {
      "cell_type": "code",
      "metadata": {
        "id": "9424d8ca"
      },
      "source": [
        "import numpy as np\n",
        "\n",
        "\n",
        "raize_to_power = 20\n",
        "\n",
        "def NormalizeData(data):\n",
        "    return (data - np.min(data)) / (np.max(data) - np.min(data))\n",
        "\n",
        "def generate(word):\n",
        "    inputs = np.zeros((1, 1))\n",
        "    print(inputs)\n",
        "    # inputs = [0, 0]\n",
        "    print(word2idx[word])\n",
        "    inputs[0] = word2idx[word]\n",
        "    count = 1\n",
        "    res = ''\n",
        "    while count <= 100:\n",
        "        pred = model.predict(inputs)\n",
        "        # word = np.argmax(pred)\n",
        "        p = NormalizeData(pred[0][0])\n",
        "        p = np.power(p, raize_to_power)\n",
        "        p /= p.sum()\n",
        "        word = np.random.choice(len(pred[0][0]), p = p)\n",
        "        if word >= vocab_size:\n",
        "            word = vocab_size - 1\n",
        "\n",
        "        inputs[0, 0] = word\n",
        "        idx2word[word]\n",
        "        res += idx2word[word] + ' '\n",
        "        if count % 7 == 0:\n",
        "            res = res + \"\\n\"\n",
        "        count += 1\n",
        "    return res \n",
        "\n",
        "        \n",
        "result_text = generate('я')\n",
        "result_text"
      ],
      "id": "9424d8ca",
      "execution_count": null,
      "outputs": []
    },
    {
      "cell_type": "code",
      "metadata": {
        "id": "n61q269qM_mF"
      },
      "source": [
        "import matplotlib.pyplot as plt\n",
        "plt.style.use('dark_background')\n",
        "\n",
        "fig, ax = plt.subplots()\n",
        "\n",
        "ax.plot(range(len(history.history['loss'])), history.history['loss'])\n",
        "\n",
        "ax.set_title(f\"\"\"\n",
        "dropout={dropout} GRU tensors={GRU_size} learning rate={lr} \n",
        "\n",
        "всего итераций={epochs} кол-во семплов={sample_size}\n",
        "\"\"\",\n",
        "            fontsize=10, loc='left')\n",
        "ax.set_xlabel('кол-во итераций')\n",
        "ax.set_ylabel('точность попаданий')\n",
        "\n",
        "fig.text(0.1,-0.7,\n",
        "f\"\"\"\n",
        "Суммарное время тренировки = {round(time_elapsed / 60, 2)} минут\n",
        "Семпл, грейд probablity distribution = {raize_to_power}\n",
        "\n",
        "\"\"\" + result_text)\n",
        "fig.tight_layout()\n",
        "\n",
        "fig.savefig(f'GRUsize-{GRU_size}_epochs-{epochs}__sample-size-{sample_size}.png', dpi=300, bbox_inches='tight')\n"
      ],
      "id": "n61q269qM_mF",
      "execution_count": null,
      "outputs": []
    }
  ]
}